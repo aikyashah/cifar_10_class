{
  "nbformat": 4,
  "nbformat_minor": 0,
  "metadata": {
    "colab": {
      "name": "insightChallengeAikyaShah",
      "provenance": [],
      "collapsed_sections": [],
      "include_colab_link": true
    },
    "kernelspec": {
      "name": "python3",
      "display_name": "Python 3"
    },
    "accelerator": "GPU"
  },
  "cells": [
    {
      "cell_type": "markdown",
      "metadata": {
        "id": "view-in-github",
        "colab_type": "text"
      },
      "source": [
        "<a href=\"https://colab.research.google.com/github/aikyashah/cifar_10_class/blob/master/insightChallengeAikyaShah.ipynb\" target=\"_parent\"><img src=\"https://colab.research.google.com/assets/colab-badge.svg\" alt=\"Open In Colab\"/></a>"
      ]
    },
    {
      "cell_type": "markdown",
      "metadata": {
        "id": "TI1Qe86sem8y",
        "colab_type": "text"
      },
      "source": [
        "To connect to a GPU runtime for faster training (highly recommended):\n",
        "1. Go to Runtime > Change runtime type from topbar.\n",
        "1. Select GPU from the Hardware accelerator dropdown list."
      ]
    },
    {
      "cell_type": "code",
      "metadata": {
        "id": "OIlDSqXu-QCi",
        "colab_type": "code",
        "cellView": "form",
        "outputId": "e879f86b-3e2a-459f-ff84-a2e7f7ac81fb",
        "colab": {
          "base_uri": "https://localhost:8080/",
          "height": 34
        }
      },
      "source": [
        "#@title Set Caliper credentials (Paste this notebook's URL here)\n",
        "############################################################\n",
        "##            DON'T EDIT CODE IN THIS CELL                ##\n",
        "############################################################\n",
        "NOTEBOOK_URL = \"https://colab.research.google.com/drive/1s6bwVZXAYDQMZAsEFYRk4SHhJbX5VbEL#scrollTo=OIlDSqXu-QCi\" #@param {type:\"string\"}\n",
        "import urllib\n",
        "parsed = urllib.parse.urlparse(NOTEBOOK_URL)\n",
        "try:\n",
        "  caliper_token = urllib.parse.parse_qs(parsed.query)['auth_token'][0]\n",
        "  challenge_id = urllib.parse.parse_qs(parsed.query)['challenge_id'][0]\n",
        "  phase_id = urllib.parse.parse_qs(parsed.query)['phase_id'][0]\n",
        "except:\n",
        "  print(\"Some error occured in parsing the pasted URL.\")\n",
        "############################################################\n",
        "##            DON'T EDIT CODE IN THIS CELL                ##\n",
        "############################################################"
      ],
      "execution_count": 0,
      "outputs": [
        {
          "output_type": "stream",
          "text": [
            "Some error occured in parsing the pasted URL.\n"
          ],
          "name": "stdout"
        }
      ]
    },
    {
      "cell_type": "code",
      "metadata": {
        "id": "1erjV-kg1ioy",
        "colab_type": "code",
        "cellView": "both",
        "colab": {
          "base_uri": "https://localhost:8080/",
          "height": 80
        },
        "outputId": "3510c32a-2c38-4c1e-a15c-0d9941af1d9f"
      },
      "source": [
        "#@title Import dependencies\n",
        "import matplotlib.pyplot as plt\n",
        "from keras.models import Sequential\n",
        "from keras.layers import Convolution2D\n",
        "from keras.layers import MaxPooling2D\n",
        "from keras.layers import Flatten\n",
        "from keras.layers import Dense, Dropout\n",
        "from keras.datasets import cifar10\n",
        "from keras.utils import to_categorical\n",
        "from keras.models import load_model\n",
        "from keras.preprocessing.image import ImageDataGenerator\n",
        "from sklearn.metrics import confusion_matrix\n",
        "import numpy as np\n",
        "import os\n",
        "from google.colab import files"
      ],
      "execution_count": 1,
      "outputs": [
        {
          "output_type": "stream",
          "text": [
            "Using TensorFlow backend.\n"
          ],
          "name": "stderr"
        },
        {
          "output_type": "display_data",
          "data": {
            "text/html": [
              "<p style=\"color: red;\">\n",
              "The default version of TensorFlow in Colab will soon switch to TensorFlow 2.x.<br>\n",
              "We recommend you <a href=\"https://www.tensorflow.org/guide/migrate\" target=\"_blank\">upgrade</a> now \n",
              "or ensure your notebook will continue to use TensorFlow 1.x via the <code>%tensorflow_version 1.x</code> magic:\n",
              "<a href=\"https://colab.research.google.com/notebooks/tensorflow_version.ipynb\" target=\"_blank\">more info</a>.</p>\n"
            ],
            "text/plain": [
              "<IPython.core.display.HTML object>"
            ]
          },
          "metadata": {
            "tags": []
          }
        }
      ]
    },
    {
      "cell_type": "code",
      "metadata": {
        "id": "eh3CXk8O1lYP",
        "colab_type": "code",
        "cellView": "both",
        "colab": {}
      },
      "source": [
        "#@title Set hyperparameters\n",
        "batch_length = 200\n",
        "num_of_epoch = 100\n",
        "dropout_Conv = 0.2\n",
        "dropuout_Dense = 0.5\n",
        "model_name = 'deep1.h5'\n",
        "model_path = os.path.join(os.getcwd(), model_name)"
      ],
      "execution_count": 0,
      "outputs": []
    },
    {
      "cell_type": "code",
      "metadata": {
        "id": "JQS1nhnM2Ejx",
        "colab_type": "code",
        "cellView": "both",
        "colab": {}
      },
      "source": [
        "# Normalize training values between [0, 1]. Apply sheer and zoom to prepare for test dataset\n",
        "# Classes are translated into one Hot vectors of length 10\n",
        "def processTrainingData():\n",
        "    (X_train,y_train),(X_test, y_test) = cifar10.load_data()\n",
        "    X_train = X_train.astype('float32')\n",
        "    X_test = X_test.astype('float32')\n",
        "    X_train /= 255\n",
        "    X_test /= 255\n",
        "    train_datagen = ImageDataGenerator(shear_range = 0.2,\n",
        "                                       zoom_range = 0.2,\n",
        "                                       horizontal_flip = True)\n",
        "    train_datagen.fit(X_train)\n",
        "    y_train = to_categorical(y_train, 10)\n",
        "    y_test = to_categorical(y_test,10)\n",
        "    return X_train, y_train, X_test, y_test"
      ],
      "execution_count": 0,
      "outputs": []
    },
    {
      "cell_type": "code",
      "metadata": {
        "id": "oU5MBcluaSS-",
        "colab_type": "code",
        "colab": {}
      },
      "source": [
        "#Generates CSV\n",
        "def generateAndDownLoadCSV(y_hat):\n",
        "    import csv\n",
        "    header = ['img_id', 'label']\n",
        "    with open(\"test_predictions_Aikya_Shah.csv\", \"w\", newline='') as f:\n",
        "        writer = csv.writer(f, delimiter=',')\n",
        "        writer.writerow(header)\n",
        "        index = 1\n",
        "        for item in y_hat:\n",
        "            writer.writerow([index, item])\n",
        "            index += 1\n",
        "    files.download('test_predictions_Aikya_Shah.csv')\n",
        "    #files.upload('test_predictions_Aikya_Shah.csv')"
      ],
      "execution_count": 0,
      "outputs": []
    },
    {
      "cell_type": "code",
      "metadata": {
        "id": "XnZ5CbS3Zaeo",
        "colab_type": "code",
        "colab": {}
      },
      "source": [
        "# A model with 5 convolution layers and each with 2x2 Max pooling \n",
        "# connected with a fully connected Neural Network with 2 hidden layers    \n",
        "def getCNNModel():\n",
        "    classifier = Sequential()\n",
        "    \n",
        "    classifier.add(Convolution2D(32, (3, 3), kernel_initializer='he_uniform', \n",
        "                                 padding='same', \n",
        "                                 input_shape = (32, 32, 3), \n",
        "                                 activation = 'relu'))\n",
        "    classifier.add(MaxPooling2D(pool_size = (2, 2)))\n",
        "    classifier.add(Convolution2D(32, (3, 3), kernel_initializer='he_uniform', \n",
        "                                 activation = 'relu', \n",
        "                                 padding='same'))\n",
        "    classifier.add(Dropout(dropout_Conv))\n",
        "    classifier.add(MaxPooling2D(pool_size = (2, 2)))\n",
        "    classifier.add(Convolution2D(64, (3, 3), kernel_initializer='he_uniform', \n",
        "                                 activation = 'relu', \n",
        "                                 padding='same'))\n",
        "    classifier.add(MaxPooling2D(pool_size = (2, 2)))\n",
        "    classifier.add(Convolution2D(64, (3, 3), kernel_initializer='he_uniform', \n",
        "                                 activation = 'relu', \n",
        "                                 padding='same'))\n",
        "    classifier.add(Convolution2D(64, (3, 3), kernel_initializer='he_uniform', \n",
        "                                 activation = 'relu', \n",
        "                                 padding='same'))\n",
        "    classifier.add(MaxPooling2D(pool_size = (2, 2)))\n",
        "    classifier.add(Dropout(dropout_Conv))\n",
        "    classifier.add(Convolution2D(128, (3, 3), kernel_initializer='he_uniform', \n",
        "                                 activation = 'relu', \n",
        "                                 padding='same'))\n",
        "    classifier.add(MaxPooling2D(pool_size = (2, 2)))\n",
        "    classifier.add(Dropout(dropout_Conv))\n",
        "    #Flatten the output to 1-D array to as input to Fully Connected Neural Net\n",
        "    classifier.add(Flatten())\n",
        "    \n",
        "    classifier.add(Dense(units = 512, \n",
        "                         kernel_initializer = 'he_uniform', \n",
        "                         activation = 'relu'))\n",
        "    classifier.add(Dropout(dropuout_Dense))\n",
        "    classifier.add(Dense(units = 128, \n",
        "                         kernel_initializer ='he_uniform', \n",
        "                         activation = 'relu'))\n",
        "    classifier.add(Dropout(dropuout_Dense))\n",
        "    classifier.add(Dense(units = 64, \n",
        "                         kernel_initializer ='he_uniform', \n",
        "                         activation = 'relu'))\n",
        "    classifier.add(Dropout(dropuout_Dense))\n",
        "    classifier.add(Dense(units = 10, activation = 'softmax'))\n",
        "    \n",
        "    # Used categorical_crossentropy because this is not a binary classification\n",
        "    classifier.compile(optimizer = 'adam', \n",
        "                       loss = 'categorical_crossentropy', \n",
        "                       metrics = ['accuracy'])\n",
        "    \n",
        "    return classifier"
      ],
      "execution_count": 0,
      "outputs": []
    },
    {
      "cell_type": "code",
      "metadata": {
        "id": "0E_PDUnGZnj5",
        "colab_type": "code",
        "colab": {}
      },
      "source": [
        "# Plots of Cross Entropy Loss vs Epoch and Prediction Accuracy vs Epochs\n",
        "def generateAccuracyPlot(history):\n",
        "    plt.title('Cross Entropy Loss')\n",
        "    plt.xlabel(\"Epoch\")\n",
        "    plt.ylabel(\"Loss\")\n",
        "    plt.plot(history.history['loss'], color='red', label='train')\n",
        "    #Uncomment if validation set is given while training\n",
        "    #plt.plot(history.history['val_loss'], color='blue', label='test')\n",
        "    plt.legend(loc=\"upper right\")\n",
        "    plt.show()\n",
        "    plt.close()\n",
        "    \n",
        "    plt.title('Classification Accuracy')\n",
        "    plt.xlabel(\"Epoch\")\n",
        "    plt.ylabel(\"Accuracy\")\n",
        "    plt.plot(history.history['acc'], color='green', label='train')\n",
        "    #Uncomment if validation set is given while training\n",
        "    #plt.plot(history.history['val_acc'], color='blue', label='test')\n",
        "    plt.legend(loc=\"lower right\")\n",
        "    plt.show()\n",
        "    plt.close()"
      ],
      "execution_count": 0,
      "outputs": []
    },
    {
      "cell_type": "code",
      "metadata": {
        "id": "w6thuFLo-Ckz",
        "colab_type": "code",
        "colab": {}
      },
      "source": [
        "#@title Build the model\n",
        "\n",
        "def main():\n",
        "    X_train, y_train, X_test, y_test = processTrainingData()\n",
        "    model = getCNNModel()\n",
        "    training_metrics = model.fit(X_train, y_train, \n",
        "                                 batch_size=batch_length, \n",
        "                                 epochs = num_of_epoch, \n",
        "                                 #validation_split = 0.1, \n",
        "                                 verbose = 2)\n",
        "    #Save the model to use it again without training\n",
        "    model.save(model_path)\n",
        "    #print(training_metrics.history)\n",
        "    y_pred = model.predict_classes(X_test)\n",
        "    _, test_accuracy = model.evaluate(X_test, y_test, verbose=0)\n",
        "    print('Test Accuracy is: '+'%.2f' % (test_accuracy * 100.0)+\"%\")\n",
        "    generateAccuracyPlot(training_metrics)\n",
        "    generateAndDownLoadCSV(y_pred)"
      ],
      "execution_count": 0,
      "outputs": []
    },
    {
      "cell_type": "code",
      "metadata": {
        "id": "6JPAodHkbILd",
        "colab_type": "code",
        "outputId": "cf326f79-03f8-4390-9e3e-01333042d20c",
        "colab": {
          "base_uri": "https://localhost:8080/",
          "height": 1000
        }
      },
      "source": [
        "if __name__ == \"__main__\":\n",
        "    main()"
      ],
      "execution_count": 10,
      "outputs": [
        {
          "output_type": "stream",
          "text": [
            "Downloading data from https://www.cs.toronto.edu/~kriz/cifar-10-python.tar.gz\n",
            "170500096/170498071 [==============================] - 2s 0us/step\n",
            "WARNING:tensorflow:From /usr/local/lib/python3.6/dist-packages/keras/backend/tensorflow_backend.py:66: The name tf.get_default_graph is deprecated. Please use tf.compat.v1.get_default_graph instead.\n",
            "\n",
            "WARNING:tensorflow:From /usr/local/lib/python3.6/dist-packages/keras/backend/tensorflow_backend.py:541: The name tf.placeholder is deprecated. Please use tf.compat.v1.placeholder instead.\n",
            "\n",
            "WARNING:tensorflow:From /usr/local/lib/python3.6/dist-packages/keras/backend/tensorflow_backend.py:4432: The name tf.random_uniform is deprecated. Please use tf.random.uniform instead.\n",
            "\n",
            "WARNING:tensorflow:From /usr/local/lib/python3.6/dist-packages/keras/backend/tensorflow_backend.py:4267: The name tf.nn.max_pool is deprecated. Please use tf.nn.max_pool2d instead.\n",
            "\n",
            "WARNING:tensorflow:From /usr/local/lib/python3.6/dist-packages/keras/backend/tensorflow_backend.py:148: The name tf.placeholder_with_default is deprecated. Please use tf.compat.v1.placeholder_with_default instead.\n",
            "\n",
            "WARNING:tensorflow:From /usr/local/lib/python3.6/dist-packages/keras/backend/tensorflow_backend.py:3733: calling dropout (from tensorflow.python.ops.nn_ops) with keep_prob is deprecated and will be removed in a future version.\n",
            "Instructions for updating:\n",
            "Please use `rate` instead of `keep_prob`. Rate should be set to `rate = 1 - keep_prob`.\n",
            "WARNING:tensorflow:From /usr/local/lib/python3.6/dist-packages/keras/optimizers.py:793: The name tf.train.Optimizer is deprecated. Please use tf.compat.v1.train.Optimizer instead.\n",
            "\n",
            "WARNING:tensorflow:From /usr/local/lib/python3.6/dist-packages/keras/backend/tensorflow_backend.py:3576: The name tf.log is deprecated. Please use tf.math.log instead.\n",
            "\n",
            "WARNING:tensorflow:From /usr/local/lib/python3.6/dist-packages/tensorflow_core/python/ops/math_grad.py:1424: where (from tensorflow.python.ops.array_ops) is deprecated and will be removed in a future version.\n",
            "Instructions for updating:\n",
            "Use tf.where in 2.0, which has the same broadcast rule as np.where\n",
            "WARNING:tensorflow:From /usr/local/lib/python3.6/dist-packages/keras/backend/tensorflow_backend.py:1033: The name tf.assign_add is deprecated. Please use tf.compat.v1.assign_add instead.\n",
            "\n",
            "WARNING:tensorflow:From /usr/local/lib/python3.6/dist-packages/keras/backend/tensorflow_backend.py:1020: The name tf.assign is deprecated. Please use tf.compat.v1.assign instead.\n",
            "\n",
            "WARNING:tensorflow:From /usr/local/lib/python3.6/dist-packages/keras/backend/tensorflow_backend.py:3005: The name tf.Session is deprecated. Please use tf.compat.v1.Session instead.\n",
            "\n",
            "Epoch 1/100\n",
            "WARNING:tensorflow:From /usr/local/lib/python3.6/dist-packages/keras/backend/tensorflow_backend.py:190: The name tf.get_default_session is deprecated. Please use tf.compat.v1.get_default_session instead.\n",
            "\n",
            "WARNING:tensorflow:From /usr/local/lib/python3.6/dist-packages/keras/backend/tensorflow_backend.py:197: The name tf.ConfigProto is deprecated. Please use tf.compat.v1.ConfigProto instead.\n",
            "\n",
            "WARNING:tensorflow:From /usr/local/lib/python3.6/dist-packages/keras/backend/tensorflow_backend.py:207: The name tf.global_variables is deprecated. Please use tf.compat.v1.global_variables instead.\n",
            "\n",
            "WARNING:tensorflow:From /usr/local/lib/python3.6/dist-packages/keras/backend/tensorflow_backend.py:216: The name tf.is_variable_initialized is deprecated. Please use tf.compat.v1.is_variable_initialized instead.\n",
            "\n",
            "WARNING:tensorflow:From /usr/local/lib/python3.6/dist-packages/keras/backend/tensorflow_backend.py:223: The name tf.variables_initializer is deprecated. Please use tf.compat.v1.variables_initializer instead.\n",
            "\n",
            " - 19s - loss: 2.3041 - acc: 0.1257\n",
            "Epoch 2/100\n",
            " - 3s - loss: 1.9389 - acc: 0.2174\n",
            "Epoch 3/100\n",
            " - 3s - loss: 1.7729 - acc: 0.2871\n",
            "Epoch 4/100\n",
            " - 3s - loss: 1.6223 - acc: 0.3744\n",
            "Epoch 5/100\n",
            " - 3s - loss: 1.5019 - acc: 0.4319\n",
            "Epoch 6/100\n",
            " - 3s - loss: 1.3909 - acc: 0.4842\n",
            "Epoch 7/100\n",
            " - 3s - loss: 1.3135 - acc: 0.5252\n",
            "Epoch 8/100\n",
            " - 3s - loss: 1.2407 - acc: 0.5611\n",
            "Epoch 9/100\n",
            " - 3s - loss: 1.1867 - acc: 0.5861\n",
            "Epoch 10/100\n",
            " - 3s - loss: 1.1301 - acc: 0.6121\n",
            "Epoch 11/100\n",
            " - 3s - loss: 1.0704 - acc: 0.6347\n",
            "Epoch 12/100\n",
            " - 3s - loss: 1.0433 - acc: 0.6441\n",
            "Epoch 13/100\n",
            " - 3s - loss: 1.0031 - acc: 0.6617\n",
            "Epoch 14/100\n",
            " - 3s - loss: 0.9678 - acc: 0.6758\n",
            "Epoch 15/100\n",
            " - 3s - loss: 0.9402 - acc: 0.6870\n",
            "Epoch 16/100\n",
            " - 3s - loss: 0.9051 - acc: 0.6976\n",
            "Epoch 17/100\n",
            " - 3s - loss: 0.8851 - acc: 0.7089\n",
            "Epoch 18/100\n",
            " - 3s - loss: 0.8737 - acc: 0.7106\n",
            "Epoch 19/100\n",
            " - 3s - loss: 0.8380 - acc: 0.7238\n",
            "Epoch 20/100\n",
            " - 3s - loss: 0.8225 - acc: 0.7279\n",
            "Epoch 21/100\n",
            " - 3s - loss: 0.7952 - acc: 0.7350\n",
            "Epoch 22/100\n",
            " - 3s - loss: 0.7809 - acc: 0.7417\n",
            "Epoch 23/100\n",
            " - 3s - loss: 0.7654 - acc: 0.7490\n",
            "Epoch 24/100\n",
            " - 3s - loss: 0.7485 - acc: 0.7522\n",
            "Epoch 25/100\n",
            " - 3s - loss: 0.7388 - acc: 0.7565\n",
            "Epoch 26/100\n",
            " - 3s - loss: 0.7166 - acc: 0.7628\n",
            "Epoch 27/100\n",
            " - 3s - loss: 0.7036 - acc: 0.7691\n",
            "Epoch 28/100\n",
            " - 3s - loss: 0.6987 - acc: 0.7693\n",
            "Epoch 29/100\n",
            " - 3s - loss: 0.6902 - acc: 0.7744\n",
            "Epoch 30/100\n",
            " - 3s - loss: 0.6689 - acc: 0.7808\n",
            "Epoch 31/100\n",
            " - 3s - loss: 0.6674 - acc: 0.7827\n",
            "Epoch 32/100\n",
            " - 3s - loss: 0.6477 - acc: 0.7859\n",
            "Epoch 33/100\n",
            " - 3s - loss: 0.6424 - acc: 0.7897\n",
            "Epoch 34/100\n",
            " - 3s - loss: 0.6352 - acc: 0.7918\n",
            "Epoch 35/100\n",
            " - 3s - loss: 0.6230 - acc: 0.7966\n",
            "Epoch 36/100\n",
            " - 3s - loss: 0.6117 - acc: 0.7998\n",
            "Epoch 37/100\n",
            " - 3s - loss: 0.5954 - acc: 0.8051\n",
            "Epoch 38/100\n",
            " - 3s - loss: 0.5975 - acc: 0.8042\n",
            "Epoch 39/100\n",
            " - 3s - loss: 0.5879 - acc: 0.8083\n",
            "Epoch 40/100\n",
            " - 4s - loss: 0.5816 - acc: 0.8119\n",
            "Epoch 41/100\n",
            " - 4s - loss: 0.5784 - acc: 0.8115\n",
            "Epoch 42/100\n",
            " - 4s - loss: 0.5666 - acc: 0.8137\n",
            "Epoch 43/100\n",
            " - 4s - loss: 0.5564 - acc: 0.8213\n",
            "Epoch 44/100\n",
            " - 4s - loss: 0.5645 - acc: 0.8164\n",
            "Epoch 45/100\n",
            " - 4s - loss: 0.5473 - acc: 0.8217\n",
            "Epoch 46/100\n",
            " - 4s - loss: 0.5377 - acc: 0.8245\n",
            "Epoch 47/100\n",
            " - 3s - loss: 0.5345 - acc: 0.8269\n",
            "Epoch 48/100\n",
            " - 3s - loss: 0.5354 - acc: 0.8257\n",
            "Epoch 49/100\n",
            " - 3s - loss: 0.5328 - acc: 0.8257\n",
            "Epoch 50/100\n",
            " - 3s - loss: 0.5202 - acc: 0.8317\n",
            "Epoch 51/100\n",
            " - 3s - loss: 0.5215 - acc: 0.8308\n",
            "Epoch 52/100\n",
            " - 3s - loss: 0.5136 - acc: 0.8321\n",
            "Epoch 53/100\n",
            " - 3s - loss: 0.5134 - acc: 0.8332\n",
            "Epoch 54/100\n",
            " - 3s - loss: 0.5000 - acc: 0.8360\n",
            "Epoch 55/100\n",
            " - 3s - loss: 0.5030 - acc: 0.8367\n",
            "Epoch 56/100\n",
            " - 3s - loss: 0.4980 - acc: 0.8372\n",
            "Epoch 57/100\n",
            " - 3s - loss: 0.4947 - acc: 0.8393\n",
            "Epoch 58/100\n",
            " - 4s - loss: 0.4797 - acc: 0.8472\n",
            "Epoch 59/100\n",
            " - 3s - loss: 0.4826 - acc: 0.8438\n",
            "Epoch 60/100\n",
            " - 3s - loss: 0.4863 - acc: 0.8451\n",
            "Epoch 61/100\n",
            " - 3s - loss: 0.4747 - acc: 0.8483\n",
            "Epoch 62/100\n",
            " - 3s - loss: 0.4701 - acc: 0.8480\n",
            "Epoch 63/100\n",
            " - 3s - loss: 0.4649 - acc: 0.8495\n",
            "Epoch 64/100\n",
            " - 3s - loss: 0.4776 - acc: 0.8456\n",
            "Epoch 65/100\n",
            " - 3s - loss: 0.4670 - acc: 0.8514\n",
            "Epoch 66/100\n",
            " - 3s - loss: 0.4641 - acc: 0.8505\n",
            "Epoch 67/100\n",
            " - 3s - loss: 0.4422 - acc: 0.8575\n",
            "Epoch 68/100\n",
            " - 3s - loss: 0.4665 - acc: 0.8524\n",
            "Epoch 69/100\n",
            " - 3s - loss: 0.4543 - acc: 0.8529\n",
            "Epoch 70/100\n",
            " - 3s - loss: 0.4579 - acc: 0.8546\n",
            "Epoch 71/100\n",
            " - 3s - loss: 0.4459 - acc: 0.8562\n",
            "Epoch 72/100\n",
            " - 3s - loss: 0.4361 - acc: 0.8602\n",
            "Epoch 73/100\n",
            " - 3s - loss: 0.4380 - acc: 0.8598\n",
            "Epoch 74/100\n",
            " - 3s - loss: 0.4383 - acc: 0.8595\n",
            "Epoch 75/100\n",
            " - 3s - loss: 0.4262 - acc: 0.8632\n",
            "Epoch 76/100\n",
            " - 4s - loss: 0.4367 - acc: 0.8625\n",
            "Epoch 77/100\n",
            " - 4s - loss: 0.4464 - acc: 0.8593\n",
            "Epoch 78/100\n",
            " - 3s - loss: 0.4339 - acc: 0.8613\n",
            "Epoch 79/100\n",
            " - 3s - loss: 0.4233 - acc: 0.8660\n",
            "Epoch 80/100\n",
            " - 3s - loss: 0.4203 - acc: 0.8670\n",
            "Epoch 81/100\n",
            " - 3s - loss: 0.4224 - acc: 0.8672\n",
            "Epoch 82/100\n",
            " - 4s - loss: 0.4263 - acc: 0.8641\n",
            "Epoch 83/100\n",
            " - 3s - loss: 0.4170 - acc: 0.8673\n",
            "Epoch 84/100\n",
            " - 3s - loss: 0.4249 - acc: 0.8667\n",
            "Epoch 85/100\n",
            " - 3s - loss: 0.4142 - acc: 0.8685\n",
            "Epoch 86/100\n",
            " - 3s - loss: 0.4066 - acc: 0.8722\n",
            "Epoch 87/100\n",
            " - 3s - loss: 0.4164 - acc: 0.8690\n",
            "Epoch 88/100\n",
            " - 3s - loss: 0.3999 - acc: 0.8730\n",
            "Epoch 89/100\n",
            " - 3s - loss: 0.4004 - acc: 0.8740\n",
            "Epoch 90/100\n",
            " - 3s - loss: 0.3936 - acc: 0.8760\n",
            "Epoch 91/100\n",
            " - 3s - loss: 0.4137 - acc: 0.8705\n",
            "Epoch 92/100\n",
            " - 3s - loss: 0.4058 - acc: 0.8723\n",
            "Epoch 93/100\n",
            " - 3s - loss: 0.3965 - acc: 0.8739\n",
            "Epoch 94/100\n",
            " - 4s - loss: 0.4059 - acc: 0.8720\n",
            "Epoch 95/100\n",
            " - 3s - loss: 0.3975 - acc: 0.8737\n",
            "Epoch 96/100\n",
            " - 3s - loss: 0.3962 - acc: 0.8746\n",
            "Epoch 97/100\n",
            " - 3s - loss: 0.4020 - acc: 0.8767\n",
            "Epoch 98/100\n",
            " - 3s - loss: 0.3877 - acc: 0.8795\n",
            "Epoch 99/100\n",
            " - 3s - loss: 0.3826 - acc: 0.8785\n",
            "Epoch 100/100\n",
            " - 3s - loss: 0.3715 - acc: 0.8820\n",
            "Test Accuracy is: 73.77%\n"
          ],
          "name": "stdout"
        },
        {
          "output_type": "display_data",
          "data": {
            "image/png": "[encoded data removed]",
            "text/plain": [
              "<Figure size 432x288 with 1 Axes>"
            ]
          },
          "metadata": {
            "tags": []
          }
        },
        {
          "output_type": "display_data",
          "data": {
            "image/png": "[encoded data removed]",
            "text/plain": [
              "<Figure size 432x288 with 1 Axes>"
            ]
          },
          "metadata": {
            "tags": []
          }
        },
        {
          "output_type": "error",
          "ename": "MessageError",
          "evalue": "ignored",
          "traceback": [
            "\u001b[0;31m---------------------------------------------------------------------------\u001b[0m",
            "\u001b[0;31mMessageError\u001b[0m                              Traceback (most recent call last)",
            "\u001b[0;32m<ipython-input-10-972361fa1b80>\u001b[0m in \u001b[0;36m<module>\u001b[0;34m()\u001b[0m\n\u001b[1;32m      1\u001b[0m \u001b[0;32mif\u001b[0m \u001b[0m__name__\u001b[0m \u001b[0;34m==\u001b[0m \u001b[0;34m\"__main__\"\u001b[0m\u001b[0;34m:\u001b[0m\u001b[0;34m\u001b[0m\u001b[0;34m\u001b[0m\u001b[0m\n\u001b[0;32m----> 2\u001b[0;31m     \u001b[0mmain\u001b[0m\u001b[0;34m(\u001b[0m\u001b[0;34m)\u001b[0m\u001b[0;34m\u001b[0m\u001b[0;34m\u001b[0m\u001b[0m\n\u001b[0m",
            "\u001b[0;32m<ipython-input-9-5ae818f6122c>\u001b[0m in \u001b[0;36mmain\u001b[0;34m()\u001b[0m\n\u001b[1;32m     15\u001b[0m     \u001b[0mprint\u001b[0m\u001b[0;34m(\u001b[0m\u001b[0;34m'Test Accuracy is: '\u001b[0m\u001b[0;34m+\u001b[0m\u001b[0;34m'%.2f'\u001b[0m \u001b[0;34m%\u001b[0m \u001b[0;34m(\u001b[0m\u001b[0mtest_accuracy\u001b[0m \u001b[0;34m*\u001b[0m \u001b[0;36m100.0\u001b[0m\u001b[0;34m)\u001b[0m\u001b[0;34m+\u001b[0m\u001b[0;34m\"%\"\u001b[0m\u001b[0;34m)\u001b[0m\u001b[0;34m\u001b[0m\u001b[0;34m\u001b[0m\u001b[0m\n\u001b[1;32m     16\u001b[0m     \u001b[0mgenerateAccuracyPlot\u001b[0m\u001b[0;34m(\u001b[0m\u001b[0mtraining_metrics\u001b[0m\u001b[0;34m)\u001b[0m\u001b[0;34m\u001b[0m\u001b[0;34m\u001b[0m\u001b[0m\n\u001b[0;32m---> 17\u001b[0;31m     \u001b[0mgenerateAndDownLoadCSV\u001b[0m\u001b[0;34m(\u001b[0m\u001b[0my_pred\u001b[0m\u001b[0;34m)\u001b[0m\u001b[0;34m\u001b[0m\u001b[0;34m\u001b[0m\u001b[0m\n\u001b[0m",
            "\u001b[0;32m<ipython-input-6-a4adf5f48645>\u001b[0m in \u001b[0;36mgenerateAndDownLoadCSV\u001b[0;34m(y_hat)\u001b[0m\n\u001b[1;32m      9\u001b[0m             \u001b[0mwriter\u001b[0m\u001b[0;34m.\u001b[0m\u001b[0mwriterow\u001b[0m\u001b[0;34m(\u001b[0m\u001b[0;34m[\u001b[0m\u001b[0mindex\u001b[0m\u001b[0;34m,\u001b[0m \u001b[0mitem\u001b[0m\u001b[0;34m]\u001b[0m\u001b[0;34m)\u001b[0m\u001b[0;34m\u001b[0m\u001b[0;34m\u001b[0m\u001b[0m\n\u001b[1;32m     10\u001b[0m             \u001b[0mindex\u001b[0m \u001b[0;34m+=\u001b[0m \u001b[0;36m1\u001b[0m\u001b[0;34m\u001b[0m\u001b[0;34m\u001b[0m\u001b[0m\n\u001b[0;32m---> 11\u001b[0;31m     \u001b[0mfiles\u001b[0m\u001b[0;34m.\u001b[0m\u001b[0mdownload\u001b[0m\u001b[0;34m(\u001b[0m\u001b[0;34m'test_predictions_Aikya_Shah.csv'\u001b[0m\u001b[0;34m)\u001b[0m\u001b[0;34m\u001b[0m\u001b[0;34m\u001b[0m\u001b[0m\n\u001b[0m\u001b[1;32m     12\u001b[0m     \u001b[0;31m#files.upload('test_predictions_Aikya_Shah.csv')\u001b[0m\u001b[0;34m\u001b[0m\u001b[0;34m\u001b[0m\u001b[0;34m\u001b[0m\u001b[0m\n",
            "\u001b[0;32m/usr/local/lib/python3.6/dist-packages/google/colab/files.py\u001b[0m in \u001b[0;36mdownload\u001b[0;34m(filename)\u001b[0m\n\u001b[1;32m    176\u001b[0m       \u001b[0;34m'port'\u001b[0m\u001b[0;34m:\u001b[0m \u001b[0mport\u001b[0m\u001b[0;34m,\u001b[0m\u001b[0;34m\u001b[0m\u001b[0;34m\u001b[0m\u001b[0m\n\u001b[1;32m    177\u001b[0m       \u001b[0;34m'path'\u001b[0m\u001b[0;34m:\u001b[0m \u001b[0m_os\u001b[0m\u001b[0;34m.\u001b[0m\u001b[0mpath\u001b[0m\u001b[0;34m.\u001b[0m\u001b[0mabspath\u001b[0m\u001b[0;34m(\u001b[0m\u001b[0mfilename\u001b[0m\u001b[0;34m)\u001b[0m\u001b[0;34m,\u001b[0m\u001b[0;34m\u001b[0m\u001b[0;34m\u001b[0m\u001b[0m\n\u001b[0;32m--> 178\u001b[0;31m       \u001b[0;34m'name'\u001b[0m\u001b[0;34m:\u001b[0m \u001b[0m_os\u001b[0m\u001b[0;34m.\u001b[0m\u001b[0mpath\u001b[0m\u001b[0;34m.\u001b[0m\u001b[0mbasename\u001b[0m\u001b[0;34m(\u001b[0m\u001b[0mfilename\u001b[0m\u001b[0;34m)\u001b[0m\u001b[0;34m,\u001b[0m\u001b[0;34m\u001b[0m\u001b[0;34m\u001b[0m\u001b[0m\n\u001b[0m\u001b[1;32m    179\u001b[0m   })\n",
            "\u001b[0;32m/usr/local/lib/python3.6/dist-packages/google/colab/output/_js.py\u001b[0m in \u001b[0;36meval_js\u001b[0;34m(script, ignore_result)\u001b[0m\n\u001b[1;32m     37\u001b[0m   \u001b[0;32mif\u001b[0m \u001b[0mignore_result\u001b[0m\u001b[0;34m:\u001b[0m\u001b[0;34m\u001b[0m\u001b[0;34m\u001b[0m\u001b[0m\n\u001b[1;32m     38\u001b[0m     \u001b[0;32mreturn\u001b[0m\u001b[0;34m\u001b[0m\u001b[0;34m\u001b[0m\u001b[0m\n\u001b[0;32m---> 39\u001b[0;31m   \u001b[0;32mreturn\u001b[0m \u001b[0m_message\u001b[0m\u001b[0;34m.\u001b[0m\u001b[0mread_reply_from_input\u001b[0m\u001b[0;34m(\u001b[0m\u001b[0mrequest_id\u001b[0m\u001b[0;34m)\u001b[0m\u001b[0;34m\u001b[0m\u001b[0;34m\u001b[0m\u001b[0m\n\u001b[0m\u001b[1;32m     40\u001b[0m \u001b[0;34m\u001b[0m\u001b[0m\n\u001b[1;32m     41\u001b[0m \u001b[0;34m\u001b[0m\u001b[0m\n",
            "\u001b[0;32m/usr/local/lib/python3.6/dist-packages/google/colab/_message.py\u001b[0m in \u001b[0;36mread_reply_from_input\u001b[0;34m(message_id, timeout_sec)\u001b[0m\n\u001b[1;32m    104\u001b[0m         reply.get('colab_msg_id') == message_id):\n\u001b[1;32m    105\u001b[0m       \u001b[0;32mif\u001b[0m \u001b[0;34m'error'\u001b[0m \u001b[0;32min\u001b[0m \u001b[0mreply\u001b[0m\u001b[0;34m:\u001b[0m\u001b[0;34m\u001b[0m\u001b[0;34m\u001b[0m\u001b[0m\n\u001b[0;32m--> 106\u001b[0;31m         \u001b[0;32mraise\u001b[0m \u001b[0mMessageError\u001b[0m\u001b[0;34m(\u001b[0m\u001b[0mreply\u001b[0m\u001b[0;34m[\u001b[0m\u001b[0;34m'error'\u001b[0m\u001b[0;34m]\u001b[0m\u001b[0;34m)\u001b[0m\u001b[0;34m\u001b[0m\u001b[0;34m\u001b[0m\u001b[0m\n\u001b[0m\u001b[1;32m    107\u001b[0m       \u001b[0;32mreturn\u001b[0m \u001b[0mreply\u001b[0m\u001b[0;34m.\u001b[0m\u001b[0mget\u001b[0m\u001b[0;34m(\u001b[0m\u001b[0;34m'data'\u001b[0m\u001b[0;34m,\u001b[0m \u001b[0;32mNone\u001b[0m\u001b[0;34m)\u001b[0m\u001b[0;34m\u001b[0m\u001b[0;34m\u001b[0m\u001b[0m\n\u001b[1;32m    108\u001b[0m \u001b[0;34m\u001b[0m\u001b[0m\n",
            "\u001b[0;31mMessageError\u001b[0m: TypeError: Failed to fetch"
          ]
        }
      ]
    },
    {
      "cell_type": "markdown",
      "metadata": {
        "id": "ZdoHTLrW1bbm",
        "colab_type": "text"
      },
      "source": [
        "# New Section"
      ]
    },
    {
      "cell_type": "markdown",
      "metadata": {
        "id": "0RpO_cvbJNaL",
        "colab_type": "text"
      },
      "source": [
        "If the above does not download a predictions CSV file to your machine (known issue on Firefox):\n",
        "\n",
        "1. Go to View > Table of contents from topbar.\n",
        "1. A left sidebar will show up. Open the Files tab.\n",
        "1. Click Refresh.\n",
        "1. Right-click and download caliper_mnist_test_predictions.csv."
      ]
    }
  ]
}